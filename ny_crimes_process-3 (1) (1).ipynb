{
 "cells": [
  {
   "cell_type": "markdown",
   "metadata": {},
   "source": [
    "# Imports"
   ]
  },
  {
   "cell_type": "code",
   "execution_count": 1,
   "metadata": {},
   "outputs": [],
   "source": [
    "# Imports\n",
    "import numpy as np\n",
    "import pandas as pd\n",
    "import matplotlib.pyplot as plt\n",
    "import plotly.express as px \n",
    "import seaborn as sns"
   ]
  },
  {
   "cell_type": "code",
   "execution_count": 2,
   "metadata": {},
   "outputs": [],
   "source": [
    "# Set display options\n",
    "get_ipython().run_line_magic('matplotlib', 'inline')\n",
    "pd.set_option('display.max_rows', 200)\n",
    "pd.set_option('display.max_columns', 200)\n",
    "plt.style.use('ggplot')"
   ]
  },
  {
   "cell_type": "markdown",
   "metadata": {},
   "source": [
    "# Data cleaning"
   ]
  },
  {
   "cell_type": "code",
   "execution_count": null,
   "metadata": {
    "scrolled": true
   },
   "outputs": [
    {
     "name": "stderr",
     "output_type": "stream",
     "text": [
      "C:\\Users\\Vamsi\\AppData\\Local\\Temp\\ipykernel_11296\\4077364714.py:2: DtypeWarning: Columns (0) have mixed types. Specify dtype option on import or set low_memory=False.\n",
      "  df = pd.read_csv(r\"C:\\Users\\Vamsi\\Downloads\\NYPD_Complaint_Data_Historic_20231107.csv\")\n"
     ]
    }
   ],
   "source": [
    "# Import the data\n",
    "df = pd.read_csv(r\"C:\\Users\\Vamsi\\Downloads\\NYPD_Complaint_Data_Historic_20231107.csv\")"
   ]
  },
  {
   "cell_type": "code",
   "execution_count": null,
   "metadata": {},
   "outputs": [],
   "source": [
    "# Display the first few rows\n",
    "df.head()"
   ]
  },
  {
   "cell_type": "code",
   "execution_count": null,
   "metadata": {},
   "outputs": [],
   "source": [
    "# Display column names\n",
    "df.columns"
   ]
  },
  {
   "cell_type": "code",
   "execution_count": null,
   "metadata": {},
   "outputs": [],
   "source": [
    "# Display summary statistics\n",
    "df.describe().T"
   ]
  },
  {
   "cell_type": "code",
   "execution_count": null,
   "metadata": {},
   "outputs": [],
   "source": [
    "# Drop useless columns\n",
    "df.drop(columns=['PD_CD', 'PD_DESC', 'JURISDICTION_CODE', 'JURIS_DESC', 'KY_CD', 'RPT_DT', 'LOC_OF_OCCUR_DESC'], inplace=True)\n",
    "# Drop columns with high NaN and redundant information %\n",
    "df.drop(columns=['HOUSING_PSA', 'TRANSIT_DISTRICT'], inplace=True)\n",
    "# Remove unnecessary coordinate columns\n",
    "df.drop(columns=['X_COORD_CD', 'Y_COORD_CD', 'Lat_Lon'], inplace=True)\n",
    "# Delete columns that have no event start date or time\n",
    "df = df[df['CMPLNT_FR_DT'].notna() & df['CMPLNT_FR_TM'].notna()]\n",
    "\n",
    "# Drop redundant columns\n",
    "df.drop(columns=['CMPLNT_TO_TM', 'CMPLNT_TO_DT'], inplace=True)\n",
    "\n"
   ]
  },
  {
   "cell_type": "code",
   "execution_count": null,
   "metadata": {},
   "outputs": [],
   "source": [
    "# Percentage of NaN values for each column\n",
    "for column in df.columns:\n",
    "    print(f'{column}: missing {df[column].isna().sum() * 100 / len(df)}')\n"
   ]
  },
  {
   "cell_type": "code",
   "execution_count": null,
   "metadata": {},
   "outputs": [],
   "source": [
    "# Convert categorical columns to binary\n",
    "df['IN_PARK'] = df['PARKS_NM'].notnull().astype(int)\n",
    "df['IN_PUBLIC_HOUSING'] = df['HADEVELOPT'].notnull().astype(int)\n",
    "df['IN_STATION'] = df['STATION_NAME'].notnull().astype(int)\n",
    "df = df.rename({'PARKS_NM': 'IN_PARK', 'HADEVELOPT': 'IN_PUBLIC_HOUSING', 'STATION_NAME': 'IN_STATION'}, axis=1)\n"
   ]
  },
  {
   "cell_type": "code",
   "execution_count": null,
   "metadata": {},
   "outputs": [],
   "source": [
    "# Remove unnecessary coordinate columns\n",
    "df.drop(columns=['X_COORD_CD', 'Y_COORD_CD', 'Lat_Lon'], inplace=True)\n",
    "\n",
    "# Drop rows without coordinates\n",
    "df = df[df['Latitude'].notna() & df['Longitude'].notna()]\n"
   ]
  },
  {
   "cell_type": "code",
   "execution_count": null,
   "metadata": {},
   "outputs": [],
   "source": [
    "# Check if the two columns have the same values\n",
    "if all(df['CMPLNT_FR_DT'].notna() == df['CMPLNT_TO_DT'].notna()):\n",
    "    df.drop(columns='CMPLNT_TO_DT', inplace=True)\n"
   ]
  },
  {
   "cell_type": "code",
   "execution_count": null,
   "metadata": {},
   "outputs": [],
   "source": [
    "# Change date columns to YYYY-MM-DD\n",
    "df['CMPLNT_FR_DT'] = pd.to_datetime(df['CMPLNT_FR_DT'], errors='coerce')\n",
    "df['CMPLNT_FR_TM'] = pd.to_datetime(df['CMPLNT_FR_TM'], errors='coerce')\n"
   ]
  },
  {
   "cell_type": "code",
   "execution_count": null,
   "metadata": {},
   "outputs": [],
   "source": [
    "# Split date to year, month, and day\n",
    "df['year'] = df['CMPLNT_FR_DT'].dt.year\n",
    "df['month'] = df['CMPLNT_FR_DT'].dt.month\n",
    "df['day'] = df['CMPLNT_FR_DT'].dt.day\n",
    "df['hour'] = df['CMPLNT_FR_TM'].dt.hour\n",
    "# Add week day column\n",
    "df['weekday'] = pd.to_datetime(df['CMPLNT_FR_DT']).dt.day_name()\n",
    "df.drop(columns=['CMPLNT_FR_DT', 'CMPLNT_FR_TM'], inplace=True)\n"
   ]
  },
  {
   "cell_type": "code",
   "execution_count": null,
   "metadata": {},
   "outputs": [],
   "source": [
    "# Clean suspect and victim data\n",
    "df['SUSP_RACE'] = df['SUSP_RACE'].fillna('UNKNOWN')\n",
    "df['VIC_RACE'] = df['VIC_RACE'].fillna('UNKNOWN')\n",
    "df['SUSP_SEX'] = df['SUSP_SEX'].fillna('U')\n",
    "df['VIC_SEX'] = df['VIC_SEX'].fillna('U')\n"
   ]
  },
  {
   "cell_type": "code",
   "execution_count": null,
   "metadata": {},
   "outputs": [],
   "source": [
    "# Take care of invalid age data\n",
    "valid_age = ['UNKNOWN', '25-44', '<18', '45-64', '65+', '18-24']\n",
    "df.loc[~df['SUSP_AGE_GROUP'].isin(valid_age), 'SUSP_AGE_GROUP'] = 'UNKNOWN'\n",
    "df.loc[~df['VIC_AGE_GROUP'].isin(valid_age), 'VIC_AGE_GROUP'] = 'UNKNOWN'\n"
   ]
  },
  {
   "cell_type": "code",
   "execution_count": null,
   "metadata": {},
   "outputs": [],
   "source": [
    "# Drop redundant data\n",
    "df.drop(columns='PATROL_BORO', inplace=True)\n",
    "df['BORO_NM'] = df['BORO_NM'].fillna('UNKNOWN')\n"
   ]
  },
  {
   "cell_type": "code",
   "execution_count": null,
   "metadata": {},
   "outputs": [],
   "source": [
    "# Drop remaining rows with NaN values\n",
    "df.dropna(inplace=True)"
   ]
  },
  {
   "cell_type": "code",
   "execution_count": null,
   "metadata": {},
   "outputs": [],
   "source": [
    "# Encode crime severity\n",
    "df['LAW_CAT_CD'] = df['LAW_CAT_CD'].replace(['felony', 'misdemeanor', 'violation'], [2, 1, 0])\n",
    "df = df.rename({'LAW_CAT_CD': 'CRIME_CLASS'}, axis=1)\n"
   ]
  },
  {
   "cell_type": "code",
   "execution_count": null,
   "metadata": {},
   "outputs": [],
   "source": [
    "# Reorder columns\n",
    "column_titles = ['CMPLNT_NUM', 'year', 'month', 'day', 'weekday', 'hour', 'Latitude', 'Longitude', 'CRM_ATPT_CPTD_CD',\n",
    "                 'OFNS_DESC', 'ADDR_PCT_CD', 'CRIME_CLASS', 'BORO_NM', 'PREM_TYP_DESC',\n",
    "                 'IN_PARK', 'IN_PUBLIC_HOUSING', 'IN_STATION',\n",
    "                 'SUSP_AGE_GROUP', 'SUSP_RACE', 'SUSP_SEX',\n",
    "                 'VIC_AGE_GROUP', 'VIC_RACE', 'VIC_SEX']\n",
    "df = df.reindex(columns=column_titles)\n"
   ]
  },
  {
   "cell_type": "code",
   "execution_count": null,
   "metadata": {},
   "outputs": [],
   "source": [
    "# Save the cleaned data to a CSV file\n",
    "df.to_csv(r'C:\\\\Users\\\\rupesh\\\\Downloads\\\\ny_crimes_cl_data.csv', index=False)"
   ]
  }
 ],
 "metadata": {
  "kernelspec": {
   "display_name": "Python 3 (ipykernel)",
   "language": "python",
   "name": "python3"
  },
  "language_info": {
   "codemirror_mode": {
    "name": "ipython",
    "version": 3
   },
   "file_extension": ".py",
   "mimetype": "text/x-python",
   "name": "python",
   "nbconvert_exporter": "python",
   "pygments_lexer": "ipython3",
   "version": "3.11.4"
  },
  "toc": {
   "base_numbering": 1,
   "nav_menu": {},
   "number_sections": true,
   "sideBar": true,
   "skip_h1_title": false,
   "title_cell": "Table of Contents",
   "title_sidebar": "Contents",
   "toc_cell": false,
   "toc_position": {},
   "toc_section_display": true,
   "toc_window_display": false
  }
 },
 "nbformat": 4,
 "nbformat_minor": 4
}
